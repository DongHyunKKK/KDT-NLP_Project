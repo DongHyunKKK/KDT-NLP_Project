{
 "cells": [
  {
   "cell_type": "markdown",
   "metadata": {},
   "source": [
    "### 단어 임베딩 모델을 활용하지 않은 전라도 사투리 이진 분류 모델 (단방향 GRU) <hr>"
   ]
  },
  {
   "cell_type": "code",
   "execution_count": 3,
   "metadata": {},
   "outputs": [],
   "source": [
    "import pandas as pd\n",
    "import numpy as np\n",
    "import matplotlib.pyplot as plt\n",
    "import string\n",
    "\n",
    "import torch\n",
    "import torch.nn as nn           \n",
    "import torch.nn.functional as F \n",
    "import torch.optim as optim\n",
    "import torchmetrics.functional as metrics\n",
    "from torch.utils.data import Dataset, DataLoader\n",
    "from torch.optim.lr_scheduler import ReduceLROnPlateau\n",
    "from torchtext.vocab import build_vocab_from_iterator\n",
    "\n",
    "from konlpy.tag import Mecab\n",
    "from sklearn.model_selection import train_test_split"
   ]
  },
  {
   "cell_type": "code",
   "execution_count": 6,
   "metadata": {},
   "outputs": [],
   "source": [
    "Jeolla_file = './DATA/dialect/전라도.csv'"
   ]
  },
  {
   "cell_type": "code",
   "execution_count": 7,
   "metadata": {},
   "outputs": [
    {
     "name": "stdout",
     "output_type": "stream",
     "text": [
      "<class 'pandas.core.frame.DataFrame'>\n",
      "RangeIndex: 161859 entries, 0 to 161858\n",
      "Data columns (total 2 columns):\n",
      " #   Column  Non-Null Count   Dtype \n",
      "---  ------  --------------   ----- \n",
      " 0   사투리     161859 non-null  object\n",
      " 1   표준어     161857 non-null  object\n",
      "dtypes: object(2)\n",
      "memory usage: 2.5+ MB\n"
     ]
    }
   ],
   "source": [
    "jeollaDF = pd.read_csv(Jeolla_file)\n",
    "jeollaDF.info()"
   ]
  },
  {
   "cell_type": "code",
   "execution_count": 8,
   "metadata": {},
   "outputs": [
    {
     "data": {
      "text/plain": [
       "(161859, 2)"
      ]
     },
     "execution_count": 8,
     "metadata": {},
     "output_type": "execute_result"
    }
   ],
   "source": [
    "jeollaDF.shape"
   ]
  },
  {
   "cell_type": "code",
   "execution_count": 9,
   "metadata": {},
   "outputs": [
    {
     "data": {
      "text/html": [
       "<div>\n",
       "<style scoped>\n",
       "    .dataframe tbody tr th:only-of-type {\n",
       "        vertical-align: middle;\n",
       "    }\n",
       "\n",
       "    .dataframe tbody tr th {\n",
       "        vertical-align: top;\n",
       "    }\n",
       "\n",
       "    .dataframe thead th {\n",
       "        text-align: right;\n",
       "    }\n",
       "</style>\n",
       "<table border=\"1\" class=\"dataframe\">\n",
       "  <thead>\n",
       "    <tr style=\"text-align: right;\">\n",
       "      <th></th>\n",
       "      <th>사투리</th>\n",
       "      <th>표준어</th>\n",
       "    </tr>\n",
       "  </thead>\n",
       "  <tbody>\n",
       "    <tr>\n",
       "      <th>0</th>\n",
       "      <td>시방 우리 집 짓니라고 이렇게 고생들을 허시는디 나가 참이라도 잘 준비해야제</td>\n",
       "      <td>시방 우리 집 짓느라고 이렇게 고생들을 하시는데 내가 참이라도 잘 준비해야지요</td>\n",
       "    </tr>\n",
       "    <tr>\n",
       "      <th>1</th>\n",
       "      <td>저그가 우리 한아버지 때부터 살던 자리인디 그런 자리에다가 집을 지은게 우리한테는 ...</td>\n",
       "      <td>저기가 우리 할아버지 때부터 살던 자리인데 그런 자리에다가 집을 지으니까 우리한테는...</td>\n",
       "    </tr>\n",
       "    <tr>\n",
       "      <th>2</th>\n",
       "      <td>태풍이 오면은 강한 태풍이나 바람이 치고 하면은 밖에 나가지 말고 집 안 쪽에 그 ...</td>\n",
       "      <td>태풍이 오면은 강한 태풍이나 바람이 치고 하면은 밖에 나가지 말고 집 안 쪽에 그 ...</td>\n",
       "    </tr>\n",
       "    <tr>\n",
       "      <th>3</th>\n",
       "      <td>아따 인자 가을이라고 논들도 차차 옷을 갈아입구마잉</td>\n",
       "      <td>와 이제 가을이라고 논들도 차차 옷을 갈아입네요</td>\n",
       "    </tr>\n",
       "    <tr>\n",
       "      <th>4</th>\n",
       "      <td>열두 서너 살 때부터 묵어서부터 장 장을 댕기면서 장땅 물건을 멘 날리고 그래 갖 ...</td>\n",
       "      <td>열두 서너 살 때부터 먹어서부터 장 장을 다니면서 장에다 물건을 메다 나르고 그래 ...</td>\n",
       "    </tr>\n",
       "  </tbody>\n",
       "</table>\n",
       "</div>"
      ],
      "text/plain": [
       "                                                 사투리  \\\n",
       "0         시방 우리 집 짓니라고 이렇게 고생들을 허시는디 나가 참이라도 잘 준비해야제   \n",
       "1  저그가 우리 한아버지 때부터 살던 자리인디 그런 자리에다가 집을 지은게 우리한테는 ...   \n",
       "2  태풍이 오면은 강한 태풍이나 바람이 치고 하면은 밖에 나가지 말고 집 안 쪽에 그 ...   \n",
       "3                       아따 인자 가을이라고 논들도 차차 옷을 갈아입구마잉   \n",
       "4  열두 서너 살 때부터 묵어서부터 장 장을 댕기면서 장땅 물건을 멘 날리고 그래 갖 ...   \n",
       "\n",
       "                                                 표준어  \n",
       "0        시방 우리 집 짓느라고 이렇게 고생들을 하시는데 내가 참이라도 잘 준비해야지요  \n",
       "1  저기가 우리 할아버지 때부터 살던 자리인데 그런 자리에다가 집을 지으니까 우리한테는...  \n",
       "2  태풍이 오면은 강한 태풍이나 바람이 치고 하면은 밖에 나가지 말고 집 안 쪽에 그 ...  \n",
       "3                         와 이제 가을이라고 논들도 차차 옷을 갈아입네요  \n",
       "4  열두 서너 살 때부터 먹어서부터 장 장을 다니면서 장에다 물건을 메다 나르고 그래 ...  "
      ]
     },
     "execution_count": 9,
     "metadata": {},
     "output_type": "execute_result"
    }
   ],
   "source": [
    "jeollaDF.head()"
   ]
  },
  {
   "cell_type": "code",
   "execution_count": 10,
   "metadata": {},
   "outputs": [
    {
     "data": {
      "text/plain": [
       "(126003, 2)"
      ]
     },
     "execution_count": 10,
     "metadata": {},
     "output_type": "execute_result"
    }
   ],
   "source": [
    "jeollaDF.drop_duplicates().shape"
   ]
  },
  {
   "cell_type": "code",
   "execution_count": 11,
   "metadata": {},
   "outputs": [],
   "source": [
    "# 중복데이터 제거\n",
    "jeollaDF = jeollaDF.drop_duplicates()"
   ]
  },
  {
   "cell_type": "code",
   "execution_count": 12,
   "metadata": {},
   "outputs": [
    {
     "data": {
      "text/html": [
       "<div>\n",
       "<style scoped>\n",
       "    .dataframe tbody tr th:only-of-type {\n",
       "        vertical-align: middle;\n",
       "    }\n",
       "\n",
       "    .dataframe tbody tr th {\n",
       "        vertical-align: top;\n",
       "    }\n",
       "\n",
       "    .dataframe thead th {\n",
       "        text-align: right;\n",
       "    }\n",
       "</style>\n",
       "<table border=\"1\" class=\"dataframe\">\n",
       "  <thead>\n",
       "    <tr style=\"text-align: right;\">\n",
       "      <th></th>\n",
       "      <th>variable</th>\n",
       "      <th>value</th>\n",
       "    </tr>\n",
       "  </thead>\n",
       "  <tbody>\n",
       "    <tr>\n",
       "      <th>0</th>\n",
       "      <td>사투리</td>\n",
       "      <td>시방 우리 집 짓니라고 이렇게 고생들을 허시는디 나가 참이라도 잘 준비해야제</td>\n",
       "    </tr>\n",
       "    <tr>\n",
       "      <th>1</th>\n",
       "      <td>사투리</td>\n",
       "      <td>저그가 우리 한아버지 때부터 살던 자리인디 그런 자리에다가 집을 지은게 우리한테는 ...</td>\n",
       "    </tr>\n",
       "    <tr>\n",
       "      <th>2</th>\n",
       "      <td>사투리</td>\n",
       "      <td>태풍이 오면은 강한 태풍이나 바람이 치고 하면은 밖에 나가지 말고 집 안 쪽에 그 ...</td>\n",
       "    </tr>\n",
       "    <tr>\n",
       "      <th>3</th>\n",
       "      <td>사투리</td>\n",
       "      <td>아따 인자 가을이라고 논들도 차차 옷을 갈아입구마잉</td>\n",
       "    </tr>\n",
       "    <tr>\n",
       "      <th>4</th>\n",
       "      <td>사투리</td>\n",
       "      <td>열두 서너 살 때부터 묵어서부터 장 장을 댕기면서 장땅 물건을 멘 날리고 그래 갖 ...</td>\n",
       "    </tr>\n",
       "  </tbody>\n",
       "</table>\n",
       "</div>"
      ],
      "text/plain": [
       "  variable                                              value\n",
       "0      사투리         시방 우리 집 짓니라고 이렇게 고생들을 허시는디 나가 참이라도 잘 준비해야제\n",
       "1      사투리  저그가 우리 한아버지 때부터 살던 자리인디 그런 자리에다가 집을 지은게 우리한테는 ...\n",
       "2      사투리  태풍이 오면은 강한 태풍이나 바람이 치고 하면은 밖에 나가지 말고 집 안 쪽에 그 ...\n",
       "3      사투리                       아따 인자 가을이라고 논들도 차차 옷을 갈아입구마잉\n",
       "4      사투리  열두 서너 살 때부터 묵어서부터 장 장을 댕기면서 장땅 물건을 멘 날리고 그래 갖 ..."
      ]
     },
     "execution_count": 12,
     "metadata": {},
     "output_type": "execute_result"
    }
   ],
   "source": [
    "dataDF = jeollaDF.melt()\n",
    "dataDF.head()"
   ]
  },
  {
   "cell_type": "code",
   "execution_count": 13,
   "metadata": {},
   "outputs": [
    {
     "data": {
      "text/html": [
       "<div>\n",
       "<style scoped>\n",
       "    .dataframe tbody tr th:only-of-type {\n",
       "        vertical-align: middle;\n",
       "    }\n",
       "\n",
       "    .dataframe tbody tr th {\n",
       "        vertical-align: top;\n",
       "    }\n",
       "\n",
       "    .dataframe thead th {\n",
       "        text-align: right;\n",
       "    }\n",
       "</style>\n",
       "<table border=\"1\" class=\"dataframe\">\n",
       "  <thead>\n",
       "    <tr style=\"text-align: right;\">\n",
       "      <th></th>\n",
       "      <th>variable</th>\n",
       "      <th>value</th>\n",
       "    </tr>\n",
       "  </thead>\n",
       "  <tbody>\n",
       "    <tr>\n",
       "      <th>252001</th>\n",
       "      <td>표준어</td>\n",
       "      <td>배추가 짜지는 않겠는데 조금 그런 거 같으면 배추를 물에다 씻어버려</td>\n",
       "    </tr>\n",
       "    <tr>\n",
       "      <th>252002</th>\n",
       "      <td>표준어</td>\n",
       "      <td>이 키워본 적이 없어잉 뭣이 나을지는 모르겠어 근데 닭은 그냥 키웠어 옛날에 우리 ...</td>\n",
       "    </tr>\n",
       "    <tr>\n",
       "      <th>252003</th>\n",
       "      <td>표준어</td>\n",
       "      <td>사십 분 올 때 삼십 분 올 때는 좀 빠르게 하고 그러니까 한 시간 반 걸어 그렇게...</td>\n",
       "    </tr>\n",
       "    <tr>\n",
       "      <th>252004</th>\n",
       "      <td>표준어</td>\n",
       "      <td>이게 왜 고장이 났을까 경운기가 어디가 고장나 버렸어</td>\n",
       "    </tr>\n",
       "    <tr>\n",
       "      <th>252005</th>\n",
       "      <td>표준어</td>\n",
       "      <td>먹어보고 고기서 내려다 보면 뭣을 그러든지 나는 언제 이 그러니까 그때는 칼로 다 ...</td>\n",
       "    </tr>\n",
       "  </tbody>\n",
       "</table>\n",
       "</div>"
      ],
      "text/plain": [
       "       variable                                              value\n",
       "252001      표준어              배추가 짜지는 않겠는데 조금 그런 거 같으면 배추를 물에다 씻어버려\n",
       "252002      표준어  이 키워본 적이 없어잉 뭣이 나을지는 모르겠어 근데 닭은 그냥 키웠어 옛날에 우리 ...\n",
       "252003      표준어  사십 분 올 때 삼십 분 올 때는 좀 빠르게 하고 그러니까 한 시간 반 걸어 그렇게...\n",
       "252004      표준어                      이게 왜 고장이 났을까 경운기가 어디가 고장나 버렸어\n",
       "252005      표준어  먹어보고 고기서 내려다 보면 뭣을 그러든지 나는 언제 이 그러니까 그때는 칼로 다 ..."
      ]
     },
     "execution_count": 13,
     "metadata": {},
     "output_type": "execute_result"
    }
   ],
   "source": [
    "dataDF.tail()"
   ]
  },
  {
   "cell_type": "code",
   "execution_count": 14,
   "metadata": {},
   "outputs": [
    {
     "data": {
      "text/plain": [
       "(252006, 2)"
      ]
     },
     "execution_count": 14,
     "metadata": {},
     "output_type": "execute_result"
    }
   ],
   "source": [
    "dataDF.shape"
   ]
  },
  {
   "cell_type": "code",
   "execution_count": 15,
   "metadata": {},
   "outputs": [
    {
     "data": {
      "text/plain": [
       "variable    0\n",
       "value       2\n",
       "dtype: int64"
      ]
     },
     "execution_count": 15,
     "metadata": {},
     "output_type": "execute_result"
    }
   ],
   "source": [
    "dataDF.isnull().sum()"
   ]
  },
  {
   "cell_type": "code",
   "execution_count": 16,
   "metadata": {},
   "outputs": [],
   "source": [
    "# 결측값 있는 행 제거\n",
    "dataDF.dropna(inplace = True)"
   ]
  },
  {
   "cell_type": "code",
   "execution_count": 17,
   "metadata": {},
   "outputs": [],
   "source": [
    "# 컬럼명 변경\n",
    "dataDF.columns = ['label', 'text']"
   ]
  },
  {
   "cell_type": "code",
   "execution_count": 18,
   "metadata": {},
   "outputs": [],
   "source": [
    "def remove_stopwords(text, stop_words_list):\n",
    "    tokens = text.split(' ')\n",
    "    meaningful_words = [w for w in tokens if not w in stop_words_list]\n",
    "    return ' '.join(meaningful_words)\n",
    "\n",
    "def sentence_refine(feature, file_name = './DATA/dialect/전라도.csv', stop_word_file = './DATA/hangul_stopword.txt'):\n",
    "    f = open(stop_word_file, 'r', encoding = 'utf-8')\n",
    "    stop_words_list = f.read().split('\\n')\n",
    "    f.close()\n",
    "    df = pd.read_csv(file_name)\n",
    "    df = df.drop_duplicates()\n",
    "    df.dropna(inplace = True)\n",
    "    \n",
    "    # 라벨 지정\n",
    "    df = df.melt()\n",
    "\n",
    "    # 컬럼명 변경\n",
    "    df.columns = ['label', 'text']\n",
    "\n",
    "    df[feature] = df[feature].str.replace('[^ㄱ-ㅎㅏ-ㅣ가-힣]', ' ', regex = True)\n",
    "    df[feature] = df[feature].str.replace('^ +', '', regex = True)\n",
    "    df[feature] = df[feature].str.replace('[^\\w\\s]', '', regex = True)\n",
    "    df[feature] = df[feature].str.replace('([ㄱ-ㅎㅏ-ㅣ]+)', '', regex = True)\n",
    "    df[feature] = df[feature].replace(r'[{}]'.format(string.punctuation), '', regex=True)\n",
    "    # df[feature] = df[feature].str.replace('[a-zA-Z]', '', regex = True)\n",
    "    \n",
    "    df[feature] = df[feature].apply(lambda x : remove_stopwords(x, stop_words_list))\n",
    "    df = df[df[feature] != '']\n",
    "    # df[feature] = documentDF[documentDF[feature].str.len() != 0].squeeze()\n",
    "    df[feature] = df[feature].str.strip()\n",
    "    # df = df[df[feature].str.len() >= 2]\n",
    "    df.reset_index(drop = True, inplace = True)\n",
    "    \n",
    "    for ind in range(df.shape[0]):\n",
    "        if type(df.loc[ind, 'text']) is float:\n",
    "            print('float')\n",
    "    \n",
    "    return df"
   ]
  },
  {
   "cell_type": "code",
   "execution_count": 19,
   "metadata": {},
   "outputs": [
    {
     "data": {
      "text/html": [
       "<div>\n",
       "<style scoped>\n",
       "    .dataframe tbody tr th:only-of-type {\n",
       "        vertical-align: middle;\n",
       "    }\n",
       "\n",
       "    .dataframe tbody tr th {\n",
       "        vertical-align: top;\n",
       "    }\n",
       "\n",
       "    .dataframe thead th {\n",
       "        text-align: right;\n",
       "    }\n",
       "</style>\n",
       "<table border=\"1\" class=\"dataframe\">\n",
       "  <thead>\n",
       "    <tr style=\"text-align: right;\">\n",
       "      <th></th>\n",
       "      <th>label</th>\n",
       "      <th>text</th>\n",
       "    </tr>\n",
       "  </thead>\n",
       "  <tbody>\n",
       "    <tr>\n",
       "      <th>0</th>\n",
       "      <td>사투리</td>\n",
       "      <td>시방 우리 집 짓니라고 이렇게 고생들을 허시는디 나가 참이라도 잘 준비해야제</td>\n",
       "    </tr>\n",
       "    <tr>\n",
       "      <th>1</th>\n",
       "      <td>사투리</td>\n",
       "      <td>저그가 우리 한아버지 때부터 살던 자리인디 그런 자리에다가 집을 지은게 우리한테는 ...</td>\n",
       "    </tr>\n",
       "    <tr>\n",
       "      <th>2</th>\n",
       "      <td>사투리</td>\n",
       "      <td>태풍이 오면은 강한 태풍이나 바람이 치고 하면은 밖에 나가지 말고 집 안 쪽에 그 ...</td>\n",
       "    </tr>\n",
       "    <tr>\n",
       "      <th>3</th>\n",
       "      <td>사투리</td>\n",
       "      <td>아따 인자 가을이라고 논들도 차차 옷을 갈아입구마잉</td>\n",
       "    </tr>\n",
       "    <tr>\n",
       "      <th>4</th>\n",
       "      <td>사투리</td>\n",
       "      <td>열두 서너 살 때부터 묵어서부터 장 장을 댕기면서 장땅 물건을 멘 날리고 그래 갖 ...</td>\n",
       "    </tr>\n",
       "    <tr>\n",
       "      <th>...</th>\n",
       "      <td>...</td>\n",
       "      <td>...</td>\n",
       "    </tr>\n",
       "    <tr>\n",
       "      <th>252001</th>\n",
       "      <td>표준어</td>\n",
       "      <td>배추가 짜지는 않겠는데 조금 그런 거 같으면 배추를 물에다 씻어버려</td>\n",
       "    </tr>\n",
       "    <tr>\n",
       "      <th>252002</th>\n",
       "      <td>표준어</td>\n",
       "      <td>이 키워본 적이 없어잉 뭣이 나을지는 모르겠어 근데 닭은 그냥 키웠어 옛날에 우리 ...</td>\n",
       "    </tr>\n",
       "    <tr>\n",
       "      <th>252003</th>\n",
       "      <td>표준어</td>\n",
       "      <td>사십 분 올 때 삼십 분 올 때는 좀 빠르게 하고 그러니까 한 시간 반 걸어 그렇게...</td>\n",
       "    </tr>\n",
       "    <tr>\n",
       "      <th>252004</th>\n",
       "      <td>표준어</td>\n",
       "      <td>이게 왜 고장이 났을까 경운기가 어디가 고장나 버렸어</td>\n",
       "    </tr>\n",
       "    <tr>\n",
       "      <th>252005</th>\n",
       "      <td>표준어</td>\n",
       "      <td>먹어보고 고기서 내려다 보면 뭣을 그러든지 나는 언제 이 그러니까 그때는 칼로 다 ...</td>\n",
       "    </tr>\n",
       "  </tbody>\n",
       "</table>\n",
       "<p>252004 rows × 2 columns</p>\n",
       "</div>"
      ],
      "text/plain": [
       "       label                                               text\n",
       "0        사투리         시방 우리 집 짓니라고 이렇게 고생들을 허시는디 나가 참이라도 잘 준비해야제\n",
       "1        사투리  저그가 우리 한아버지 때부터 살던 자리인디 그런 자리에다가 집을 지은게 우리한테는 ...\n",
       "2        사투리  태풍이 오면은 강한 태풍이나 바람이 치고 하면은 밖에 나가지 말고 집 안 쪽에 그 ...\n",
       "3        사투리                       아따 인자 가을이라고 논들도 차차 옷을 갈아입구마잉\n",
       "4        사투리  열두 서너 살 때부터 묵어서부터 장 장을 댕기면서 장땅 물건을 멘 날리고 그래 갖 ...\n",
       "...      ...                                                ...\n",
       "252001   표준어              배추가 짜지는 않겠는데 조금 그런 거 같으면 배추를 물에다 씻어버려\n",
       "252002   표준어  이 키워본 적이 없어잉 뭣이 나을지는 모르겠어 근데 닭은 그냥 키웠어 옛날에 우리 ...\n",
       "252003   표준어  사십 분 올 때 삼십 분 올 때는 좀 빠르게 하고 그러니까 한 시간 반 걸어 그렇게...\n",
       "252004   표준어                      이게 왜 고장이 났을까 경운기가 어디가 고장나 버렸어\n",
       "252005   표준어  먹어보고 고기서 내려다 보면 뭣을 그러든지 나는 언제 이 그러니까 그때는 칼로 다 ...\n",
       "\n",
       "[252004 rows x 2 columns]"
      ]
     },
     "execution_count": 19,
     "metadata": {},
     "output_type": "execute_result"
    }
   ],
   "source": [
    "dataDF"
   ]
  },
  {
   "cell_type": "code",
   "execution_count": 20,
   "metadata": {},
   "outputs": [],
   "source": [
    "new_dataDF = sentence_refine('text')"
   ]
  },
  {
   "cell_type": "code",
   "execution_count": 21,
   "metadata": {},
   "outputs": [],
   "source": [
    "featureDF = new_dataDF['text'].to_frame()\n",
    "targetSR = new_dataDF['label'].to_frame()"
   ]
  },
  {
   "cell_type": "code",
   "execution_count": 22,
   "metadata": {},
   "outputs": [],
   "source": [
    "X_train, X_test, y_train, y_test = train_test_split(featureDF,\n",
    "                                                    targetSR,\n",
    "                                                    test_size = 0.2,\n",
    "                                                    random_state = 10,\n",
    "                                                    stratify = targetSR)"
   ]
  },
  {
   "cell_type": "code",
   "execution_count": 23,
   "metadata": {},
   "outputs": [
    {
     "data": {
      "text/html": [
       "<div>\n",
       "<style scoped>\n",
       "    .dataframe tbody tr th:only-of-type {\n",
       "        vertical-align: middle;\n",
       "    }\n",
       "\n",
       "    .dataframe tbody tr th {\n",
       "        vertical-align: top;\n",
       "    }\n",
       "\n",
       "    .dataframe thead th {\n",
       "        text-align: right;\n",
       "    }\n",
       "</style>\n",
       "<table border=\"1\" class=\"dataframe\">\n",
       "  <thead>\n",
       "    <tr style=\"text-align: right;\">\n",
       "      <th></th>\n",
       "      <th>text</th>\n",
       "      <th>label</th>\n",
       "    </tr>\n",
       "  </thead>\n",
       "  <tbody>\n",
       "    <tr>\n",
       "      <th>0</th>\n",
       "      <td>사람이 늙어서는 일을 쪼까쓱이라도 해야 해</td>\n",
       "      <td>사투리</td>\n",
       "    </tr>\n",
       "    <tr>\n",
       "      <th>1</th>\n",
       "      <td>배치 한 포기 키우기도 이라고 힘든디 어찌고 평생 농사지으며 사셨으라우</td>\n",
       "      <td>사투리</td>\n",
       "    </tr>\n",
       "    <tr>\n",
       "      <th>2</th>\n",
       "      <td>전주 지역에서 제일 유명한 음식이라 하면은 전주 비빔밥이고 콩나물 국밥이죠 근데 전...</td>\n",
       "      <td>표준어</td>\n",
       "    </tr>\n",
       "    <tr>\n",
       "      <th>3</th>\n",
       "      <td>나이가 들었을 때는 화려한 것보담 수수하고 점잖으게 옷을 입었어야제이</td>\n",
       "      <td>사투리</td>\n",
       "    </tr>\n",
       "    <tr>\n",
       "      <th>4</th>\n",
       "      <td>솔직하게 나는 아들 딸들 태몽을 꾼 적이 없네 기억도 없고 아무런 것도 말을 해줄 ...</td>\n",
       "      <td>표준어</td>\n",
       "    </tr>\n",
       "  </tbody>\n",
       "</table>\n",
       "</div>"
      ],
      "text/plain": [
       "                                                text label\n",
       "0                            사람이 늙어서는 일을 쪼까쓱이라도 해야 해   사투리\n",
       "1            배치 한 포기 키우기도 이라고 힘든디 어찌고 평생 농사지으며 사셨으라우   사투리\n",
       "2  전주 지역에서 제일 유명한 음식이라 하면은 전주 비빔밥이고 콩나물 국밥이죠 근데 전...   표준어\n",
       "3             나이가 들었을 때는 화려한 것보담 수수하고 점잖으게 옷을 입었어야제이   사투리\n",
       "4  솔직하게 나는 아들 딸들 태몽을 꾼 적이 없네 기억도 없고 아무런 것도 말을 해줄 ...   표준어"
      ]
     },
     "execution_count": 23,
     "metadata": {},
     "output_type": "execute_result"
    }
   ],
   "source": [
    "X_train.reset_index(drop = True, inplace = True)\n",
    "y_train.reset_index(drop = True, inplace = True)\n",
    "\n",
    "trainDF = pd.concat([X_train, y_train], axis = 1)\n",
    "trainDF.head()"
   ]
  },
  {
   "cell_type": "code",
   "execution_count": 24,
   "metadata": {},
   "outputs": [
    {
     "data": {
      "text/html": [
       "<div>\n",
       "<style scoped>\n",
       "    .dataframe tbody tr th:only-of-type {\n",
       "        vertical-align: middle;\n",
       "    }\n",
       "\n",
       "    .dataframe tbody tr th {\n",
       "        vertical-align: top;\n",
       "    }\n",
       "\n",
       "    .dataframe thead th {\n",
       "        text-align: right;\n",
       "    }\n",
       "</style>\n",
       "<table border=\"1\" class=\"dataframe\">\n",
       "  <thead>\n",
       "    <tr style=\"text-align: right;\">\n",
       "      <th></th>\n",
       "      <th>text</th>\n",
       "      <th>label</th>\n",
       "    </tr>\n",
       "  </thead>\n",
       "  <tbody>\n",
       "    <tr>\n",
       "      <th>0</th>\n",
       "      <td>근데 그게 쫌 이렇게 면역이 생긴 같더라고 꿀을 많이 먹어 년이믄 솔찬히 먹어 여름...</td>\n",
       "      <td>사투리</td>\n",
       "    </tr>\n",
       "    <tr>\n",
       "      <th>1</th>\n",
       "      <td>내가 아까 세 잔을 줬는디 큰딸이 대전에서 학교를 다녔는디 한 십년 뭐 공무원 시험...</td>\n",
       "      <td>사투리</td>\n",
       "    </tr>\n",
       "    <tr>\n",
       "      <th>2</th>\n",
       "      <td>용돈은 애들이 지금 아까 말하듯이 봄 가을로 한 번씩 만나서 모임을 갖고 그때는 용...</td>\n",
       "      <td>표준어</td>\n",
       "    </tr>\n",
       "    <tr>\n",
       "      <th>3</th>\n",
       "      <td>허리도 바짝 굽으셔 갖고 팔십 고개도 훌쩍 넘기셨는데 이제 더세요</td>\n",
       "      <td>표준어</td>\n",
       "    </tr>\n",
       "    <tr>\n",
       "      <th>4</th>\n",
       "      <td>나이가 들었을 때는 화려한 것보다 수수하고 점잖하게 옷을 입어야제</td>\n",
       "      <td>사투리</td>\n",
       "    </tr>\n",
       "  </tbody>\n",
       "</table>\n",
       "</div>"
      ],
      "text/plain": [
       "                                                text label\n",
       "0  근데 그게 쫌 이렇게 면역이 생긴 같더라고 꿀을 많이 먹어 년이믄 솔찬히 먹어 여름...   사투리\n",
       "1  내가 아까 세 잔을 줬는디 큰딸이 대전에서 학교를 다녔는디 한 십년 뭐 공무원 시험...   사투리\n",
       "2  용돈은 애들이 지금 아까 말하듯이 봄 가을로 한 번씩 만나서 모임을 갖고 그때는 용...   표준어\n",
       "3               허리도 바짝 굽으셔 갖고 팔십 고개도 훌쩍 넘기셨는데 이제 더세요   표준어\n",
       "4               나이가 들었을 때는 화려한 것보다 수수하고 점잖하게 옷을 입어야제   사투리"
      ]
     },
     "execution_count": 24,
     "metadata": {},
     "output_type": "execute_result"
    }
   ],
   "source": [
    "X_test.reset_index(drop = True, inplace = True)\n",
    "y_test.reset_index(drop = True, inplace = True)\n",
    "\n",
    "testDF = pd.concat([X_test, y_test], axis = 1)\n",
    "testDF.head()"
   ]
  },
  {
   "cell_type": "code",
   "execution_count": 25,
   "metadata": {},
   "outputs": [],
   "source": [
    "class CustomDataset(Dataset):\n",
    "    \n",
    "    def __init__(self, df):\n",
    "        super().__init__()\n",
    "        self.df = df\n",
    "        self.text = self.df['text']\n",
    "        self.category = self.df['label'].astype('category')\n",
    "        self.label = self.category.cat.codes\n",
    "        \n",
    "    def __len__(self):\n",
    "        return len(self.df)\n",
    "    \n",
    "    def __getitem__(self, idx):        \n",
    "        return self.label.iloc[idx], self.text.iloc[idx]"
   ]
  },
  {
   "cell_type": "code",
   "execution_count": 26,
   "metadata": {},
   "outputs": [],
   "source": [
    "trainDS = CustomDataset(trainDF)\n",
    "testDS = CustomDataset(testDF)"
   ]
  },
  {
   "cell_type": "code",
   "execution_count": 27,
   "metadata": {},
   "outputs": [
    {
     "name": "stdout",
     "output_type": "stream",
     "text": [
      "train length ===> 201601개\n",
      "\n",
      "test length ===> 50401개\n"
     ]
    }
   ],
   "source": [
    "print(f'train length ===> {len(trainDS)}개\\n\\ntest length ===> {len(testDS)}개')"
   ]
  },
  {
   "cell_type": "code",
   "execution_count": 28,
   "metadata": {},
   "outputs": [
    {
     "name": "stdout",
     "output_type": "stream",
     "text": [
      "0 사람이 늙어서는 일을 쪼까쓱이라도 해야 해\n",
      "0 근데 그게 쫌 이렇게 면역이 생긴 같더라고 꿀을 많이 먹어 년이믄 솔찬히 먹어 여름에는 토마토에다 갈아 먹고 겨울에는 콩 뭐 별다른 뭐 우리는 뭐 영양제 먹고 그러지 않아요 그걸 먹고 그걸 단백질 역할도 해주고 하니까 그렇게\n"
     ]
    }
   ],
   "source": [
    "for label, text in trainDS:\n",
    "    print(label, text)\n",
    "    break\n",
    "\n",
    "for label, text in testDS:\n",
    "    print(label, text)\n",
    "    break"
   ]
  },
  {
   "cell_type": "code",
   "execution_count": 29,
   "metadata": {},
   "outputs": [],
   "source": [
    "### ===> 토큰관련 특별 문자\n",
    "UNK = '<UNK>'\n",
    "PAD = '<PAD>'"
   ]
  },
  {
   "cell_type": "code",
   "execution_count": 30,
   "metadata": {},
   "outputs": [],
   "source": [
    "# !pip3 install mecab-ko-msvc mecab-ko-dic-msvc"
   ]
  },
  {
   "cell_type": "code",
   "execution_count": 31,
   "metadata": {},
   "outputs": [],
   "source": [
    "# 토크나이저 객체 생성\n",
    "tokenizer = Mecab()"
   ]
  },
  {
   "cell_type": "code",
   "execution_count": 32,
   "metadata": {},
   "outputs": [],
   "source": [
    "### ===> 토큰 제너레이터 함수 : 데이터 추출하여 토큰화 \n",
    "def yield_tokens(data_iter):\n",
    "    for label, text in data_iter:\n",
    "        # 라벨, 텍스트 --> 텍스트 토큰화\n",
    "        yield tokenizer.morphs(text)"
   ]
  },
  {
   "cell_type": "code",
   "execution_count": 33,
   "metadata": {},
   "outputs": [],
   "source": [
    "### ===> 토큰화 및 단어/어휘 사전 생성\n",
    "VOCAB = build_vocab_from_iterator(yield_tokens(trainDS),\n",
    "                                  min_freq = 2, \n",
    "                                  specials= [PAD, UNK],\n",
    "                                  special_first = True)\n",
    "\n",
    "### <UNK> 인덱스 설정\n",
    "VOCAB.set_default_index(VOCAB[UNK])"
   ]
  },
  {
   "cell_type": "code",
   "execution_count": 34,
   "metadata": {},
   "outputs": [],
   "source": [
    "### ===> 텍스트 >>>> 정수 인코딩\n",
    "text_pipeline = lambda x: VOCAB(tokenizer.morphs(x))\n",
    "\n",
    "### ===> 레이블 >>> 정수 인코딩 (0~3)\n",
    "# label_pipeline = lambda x: int(x) - 1"
   ]
  },
  {
   "cell_type": "code",
   "execution_count": 35,
   "metadata": {},
   "outputs": [],
   "source": [
    "### 인코딩 : 문자 >>>> 숫자로 변환\n",
    "token_to_id = {label : id  for label, id in VOCAB.get_stoi().items()}\n",
    "\n",
    "### 디코딩 : 숫자 >>>> 문자로 변환\n",
    "id_to_token = {id : label  for label, id in VOCAB.get_stoi().items()}"
   ]
  },
  {
   "cell_type": "code",
   "execution_count": 36,
   "metadata": {},
   "outputs": [],
   "source": [
    "### ===> 실행 디바이스 설정\n",
    "device = torch.device(\"cuda\" if torch.cuda.is_available() else \"cpu\")\n",
    "device = torch.device(\"cpu\")"
   ]
  },
  {
   "cell_type": "code",
   "execution_count": 37,
   "metadata": {},
   "outputs": [],
   "source": [
    "### ===> DataLoader에서 배치크기만큼 데이터셋 반환 함수 \n",
    "def collate_batch(batch):\n",
    "    # 배치크기 만큼의 라벨, 텍스트, 오프셋 값 저장 변수 \n",
    "    label_list, text_list, offsets = [], [], [0]\n",
    "    \n",
    "    # 문장 하나씩 라벨 추출 해서 저장 \n",
    "    for (_label, _text) in batch:\n",
    "         # 라벨 인코딩 후 저장\n",
    "         label_list.append(_label)\n",
    "         \n",
    "         # 텍스트 인코딩 후 저장\n",
    "         processed_text = torch.tensor(text_pipeline(_text), dtype = torch.int64)\n",
    "         text_list.append(processed_text)\n",
    "         \n",
    "         # 텍스트 offset 즉 , 텍스트 크기/길이 저장\n",
    "         offsets.append(processed_text.size(0))\n",
    "    \n",
    "    # 텐서화 진행     \n",
    "    label_list = torch.tensor(label_list, dtype = torch.int64)\n",
    "    offsets = torch.tensor(offsets[:-1]).cumsum(dim=0)\n",
    "    text_list = torch.cat(text_list)\n",
    "    \n",
    "    return label_list.to(device), text_list.to(device), offsets.to(device)"
   ]
  },
  {
   "cell_type": "code",
   "execution_count": 43,
   "metadata": {},
   "outputs": [],
   "source": [
    "### ===> 학습용, 검증용, 테스트용 DataSet 준비 \n",
    "BATCH_SIZE = 128\n",
    "\n",
    "trainDL = DataLoader(trainDS, batch_size = BATCH_SIZE, shuffle = True, drop_last = True, collate_fn = collate_batch)\n",
    "testDL  = DataLoader(testDS, batch_size = BATCH_SIZE, shuffle = False, drop_last = True, collate_fn = collate_batch)"
   ]
  },
  {
   "cell_type": "code",
   "execution_count": 44,
   "metadata": {},
   "outputs": [
    {
     "name": "stdout",
     "output_type": "stream",
     "text": [
      "len(trainDL) : 1575\n",
      "\n",
      "len(testDL) : 393\n"
     ]
    }
   ],
   "source": [
    "print(f'len(trainDL) : {len(trainDL)}\\n')\n",
    "print(f'len(testDL) : {len(testDL)}')"
   ]
  },
  {
   "cell_type": "code",
   "execution_count": 45,
   "metadata": {},
   "outputs": [
    {
     "name": "stdout",
     "output_type": "stream",
     "text": [
      "len(trainDL) : 201600\n",
      "\n",
      "len(testDL) : 50304\n"
     ]
    }
   ],
   "source": [
    "print(f'len(trainDL) : {len(trainDL) * BATCH_SIZE}\\n')\n",
    "print(f'len(testDL) : {len(testDL) * BATCH_SIZE}')"
   ]
  },
  {
   "cell_type": "code",
   "execution_count": 46,
   "metadata": {},
   "outputs": [
    {
     "name": "stdout",
     "output_type": "stream",
     "text": [
      "torch.Size([128]) tensor([1, 0, 0, 1, 1, 1, 1, 1, 0, 0, 0, 0, 0, 1, 1, 0, 1, 0, 1, 1, 1, 0, 1, 1,\n",
      "        0, 0, 1, 0, 0, 0, 0, 0, 1, 1, 0, 1, 0, 0, 1, 0, 1, 0, 1, 1, 1, 0, 1, 0,\n",
      "        1, 1, 1, 0, 0, 0, 1, 1, 0, 1, 1, 0, 0, 1, 1, 0, 1, 1, 0, 0, 1, 0, 0, 1,\n",
      "        1, 1, 0, 0, 0, 1, 0, 0, 1, 1, 0, 0, 0, 1, 0, 0, 0, 1, 0, 0, 1, 1, 1, 1,\n",
      "        1, 1, 0, 1, 1, 1, 1, 0, 1, 1, 0, 1, 0, 0, 0, 1, 1, 0, 0, 0, 0, 0, 1, 1,\n",
      "        1, 0, 1, 0, 0, 1, 1, 0])\n",
      "torch.Size([7139])\n",
      "\n",
      "tensor([ 128,    4, 1172,  ...,  996,  557, 3363])\n",
      "torch.Size([128]) tensor([   0,   16,  109,  252,  314,  396,  426,  448,  517,  584,  604,  629,\n",
      "         784,  988, 1007, 1033, 1077, 1095, 1119, 1369, 1383, 1435, 1457, 1494,\n",
      "        1515, 1533, 1713, 1724, 1747, 1775, 1805, 1834, 1857, 1879, 1897, 2125,\n",
      "        2156, 2184, 2213, 2389, 2411, 2423, 2593, 2613, 2631, 2644, 2663, 2867,\n",
      "        2889, 2908, 2971, 3349, 3361, 3380, 3444, 3479, 3499, 3526, 3684, 3703,\n",
      "        3724, 3742, 3760, 3775, 3798, 3823, 3834, 3852, 3887, 4128, 4229, 4283,\n",
      "        4297, 4313, 4334, 4357, 4404, 4422, 4440, 4459, 4573, 4592, 4625, 4643,\n",
      "        4908, 4984, 5007, 5039, 5048, 5067, 5089, 5113, 5142, 5164, 5180, 5196,\n",
      "        5220, 5249, 5298, 5398, 5564, 5631, 5648, 5838, 5941, 5958, 5988, 6002,\n",
      "        6130, 6151, 6174, 6195, 6218, 6559, 6581, 6616, 6636, 6655, 6676, 6699,\n",
      "        6728, 6904, 6927, 6941, 6955, 7038, 7055, 7119])\n"
     ]
    }
   ],
   "source": [
    "### ===> 확인\n",
    "\n",
    "for labels, texts, offests in trainDL:\n",
    "    print(labels.shape, labels, )\n",
    "    print(texts.shape, texts, sep='\\n\\n')\n",
    "    print(offests.shape, offests)\n",
    "    \n",
    "    # embedding = nn.EmbeddingBag(VOCAB_SIZE, EMBEDD_DIM, sparse=False)\n",
    "    # result =embedding(texts, offests)\n",
    "    # print(result.shape, result.ndim)\n",
    "    \n",
    "    # rnn = nn.RNN(EMBEDD_DIM, HIDDEN_SIZE, batch_first=True)\n",
    "    # output, fn=rnn(result)\n",
    "    # print('[RNN]============\\n', output, fn)\n",
    "    break"
   ]
  },
  {
   "cell_type": "markdown",
   "metadata": {},
   "source": [
    "### 단방향 GRU 모델"
   ]
  },
  {
   "cell_type": "code",
   "execution_count": 47,
   "metadata": {},
   "outputs": [],
   "source": [
    "### ==> 모델 설계\n",
    "### 입력층 : EmbeddingBag Layer - 레이어와 분류(classification) 목적을 위한 선형 레이어, 텍스트의 길이는 오프셋(offset)으로 저장, 패딩(padding) 필요하지는 않음\n",
    "### 은닉층 : Linear - 2개 클래스 분류 \n",
    "class TextModel(nn.Module):\n",
    "    \n",
    "    def __init__(self, VOCAB_SIZE, EMBEDD_DIM, HIDDEN_SIZE, NUM_CLASS):\n",
    "        super().__init__()\n",
    "        # 모델 구성 층 정의\n",
    "        self.embedding = nn.EmbeddingBag(VOCAB_SIZE, EMBEDD_DIM, sparse = False)\n",
    "        self.rnn = nn.GRU(EMBEDD_DIM, HIDDEN_SIZE, batch_first = True)\n",
    "        self.fc = nn.Linear(HIDDEN_SIZE, NUM_CLASS)\n",
    "        self.init_weights()\n",
    "        self.dropout = nn.Dropout()\n",
    "    \n",
    "    # 가중치 초기화\n",
    "    def init_weights(self):\n",
    "        initrange = 0.5\n",
    "        self.embedding.weight.data.uniform_(-initrange, initrange)\n",
    "        self.fc.weight.data.uniform_(-initrange, initrange)\n",
    "        self.fc.bias.data.zero_()\n",
    "        for name, parameter in self.rnn.named_parameters():\n",
    "            if 'weight' in name:\n",
    "                nn.init.orthogonal_(parameter)\n",
    "            elif 'bias' in name:\n",
    "                nn.init.constant_(parameter, 0.01)\n",
    "    \n",
    "    # def _init_weights(self):\n",
    "    #     nn.init.orthogonal_(self.rnn.weight)\n",
    "    #     self.rnn.bias.data.fill_(0.01)\n",
    "\n",
    "    #     nn.init.orthogonal_(self.fc.weight)\n",
    "    #     self.rnn.bias.data.fill_(0.01)\n",
    "    \n",
    "    # def _init_weights(self, module):\n",
    "    #     if isinstance(module, nn.GRU):\n",
    "    #         nn.init.orthogonal_(module.weight)\n",
    "    #         nn.init.constant_(module.bias, 0.01)\n",
    "\n",
    "    # 순방향 학습 진행\n",
    "    def forward(self, text, offsets):\n",
    "        embedded = self.embedding(text, offsets)\n",
    "        output, _ = self.rnn(embedded)\n",
    "       \n",
    "        return self.fc(output)"
   ]
  },
  {
   "cell_type": "code",
   "execution_count": 48,
   "metadata": {},
   "outputs": [],
   "source": [
    "### ==> 학습 관련 하이퍼파라미터와 인스턴스\n",
    "HIDDEN_SIZE = 3\n",
    "EMBEDD_DIM  = 32\n",
    "VOCAB_SIZE  = len(VOCAB) \n",
    "NUM_CLASS   = 1\n",
    "EPOCHS      = 50  \n",
    "LR          = 0.01"
   ]
  },
  {
   "cell_type": "code",
   "execution_count": 49,
   "metadata": {},
   "outputs": [],
   "source": [
    "### ==> 학습 관련 인스턴스\n",
    "MY_MODEL = TextModel(VOCAB_SIZE, EMBEDD_DIM, \n",
    "                  HIDDEN_SIZE, NUM_CLASS).to(device)\n",
    "\n",
    "CRITERION = nn.BCEWithLogitsLoss()\n",
    "OPTIMIZER = optim.SGD(MY_MODEL.parameters(), lr = LR)\n",
    "SCHEDULER = ReduceLROnPlateau(OPTIMIZER, mode = 'min', patience = 5)\n",
    "#SCHEDULER = optim.lr_scheduler.StepLR(OPTIMIZER, 1.0, gamma=0.1)"
   ]
  },
  {
   "cell_type": "code",
   "execution_count": 50,
   "metadata": {},
   "outputs": [
    {
     "data": {
      "text/plain": [
       "TextModel(\n",
       "  (embedding): EmbeddingBag(39789, 32, mode='mean')\n",
       "  (rnn): GRU(32, 3, batch_first=True)\n",
       "  (fc): Linear(in_features=3, out_features=1, bias=True)\n",
       "  (dropout): Dropout(p=0.5, inplace=False)\n",
       ")"
      ]
     },
     "execution_count": 50,
     "metadata": {},
     "output_type": "execute_result"
    }
   ],
   "source": [
    "MY_MODEL"
   ]
  },
  {
   "cell_type": "code",
   "execution_count": 51,
   "metadata": {},
   "outputs": [
    {
     "data": {
      "image/png": "[encoded data removed]",
      "text/plain": [
       "<Figure size 1200x1000 with 7 Axes>"
      ]
     },
     "metadata": {},
     "output_type": "display_data"
    }
   ],
   "source": [
    "plt.figure(figsize = (12, 10))\n",
    "plt.suptitle('[Before Learning]', size = 20)\n",
    "i = 1\n",
    "for name, params in MY_MODEL.named_parameters():\n",
    "    plt.subplot(3, 3, i)\n",
    "    plt.hist(params.detach().numpy().flatten(), label = name, color = 'cornflowerblue')\n",
    "    plt.xlabel('Weight', size = 15)\n",
    "    plt.ylabel('Count', size = 15)\n",
    "    plt.grid(axis = 'y')\n",
    "    plt.legend()\n",
    "    i += 1\n",
    "\n",
    "plt.tight_layout()\n",
    "plt.show()"
   ]
  },
  {
   "cell_type": "code",
   "execution_count": 52,
   "metadata": {},
   "outputs": [
    {
     "name": "stdout",
     "output_type": "stream",
     "text": [
      "embedding <class 'str'> EmbeddingBag(39789, 32, mode='mean')\n",
      "rnn <class 'str'> GRU(32, 3, batch_first=True)\n",
      "fc <class 'str'> Linear(in_features=3, out_features=1, bias=True)\n",
      "dropout <class 'str'> Dropout(p=0.5, inplace=False)\n"
     ]
    }
   ],
   "source": [
    "for name, child in MY_MODEL.named_children():\n",
    "    print(name, type(name), child)"
   ]
  },
  {
   "cell_type": "code",
   "execution_count": 53,
   "metadata": {},
   "outputs": [
    {
     "name": "stdout",
     "output_type": "stream",
     "text": [
      "tensor([1, 1, 0, 1, 0, 1, 0, 0, 1, 0, 1, 0, 0, 1, 1, 1, 0, 0, 0, 0, 0, 0, 0, 0,\n",
      "        0, 1, 1, 0, 0, 1, 0, 1, 1, 1, 1, 0, 1, 1, 0, 0, 0, 0, 0, 0, 1, 0, 1, 1,\n",
      "        0, 1, 0, 1, 1, 0, 1, 0, 0, 0, 0, 1, 1, 1, 0, 0, 1, 1, 0, 0, 1, 0, 1, 0,\n",
      "        0, 1, 0, 0, 0, 0, 1, 0, 0, 0, 0, 0, 0, 0, 0, 1, 0, 0, 0, 0, 1, 1, 1, 1,\n",
      "        0, 1, 1, 1, 0, 0, 1, 1, 0, 1, 1, 1, 0, 0, 1, 0, 1, 0, 0, 1, 0, 1, 1, 0,\n",
      "        0, 0, 0, 0, 1, 1, 1, 1]) tensor([  613,   762,   677,  ...,   100,     5, 11694]) tensor([   0,   22,  340,  450,  466,  483,  507,  565,  883,  906, 1089, 1111,\n",
      "        1140, 1171, 1313, 1336, 1516, 1532, 1621, 1798, 1809, 1989, 2006, 2055,\n",
      "        2071, 2343, 2430, 2452, 2477, 2495, 2689, 2710, 2790, 2812, 2825, 2851,\n",
      "        2869, 2886, 3002, 3023, 3174, 3197, 3219, 3237, 3265, 3293, 3473, 3707,\n",
      "        3746, 3779, 3808, 3852, 3959, 3975, 4286, 4398, 4410, 4433, 4450, 4464,\n",
      "        4487, 4513, 4546, 4571, 4595, 4631, 4654, 4819, 4835, 4927, 5041, 5058,\n",
      "        5110, 5413, 5440, 5539, 5563, 5591, 5611, 5630, 5654, 5690, 5907, 5930,\n",
      "        5947, 6118, 6136, 6154, 6187, 6201, 6313, 6358, 6389, 6416, 6447, 6567,\n",
      "        6584, 6593, 6674, 6697, 6716, 6798, 6816, 6844, 6882, 6902, 6941, 6977,\n",
      "        7045, 7062, 7091, 7119, 7193, 7387, 7536, 7555, 7571, 7617, 7712, 7794,\n",
      "        7807, 7856, 7908, 8190, 8612, 8630, 8652, 8741])\n"
     ]
    }
   ],
   "source": [
    "for idx, (label, text, offsets) in enumerate(trainDL):\n",
    "    print(label, text, offsets)\n",
    "    break"
   ]
  },
  {
   "cell_type": "code",
   "execution_count": 54,
   "metadata": {},
   "outputs": [
    {
     "data": {
      "text/plain": [
       "torch.Size([4, 1])"
      ]
     },
     "execution_count": 54,
     "metadata": {},
     "output_type": "execute_result"
    }
   ],
   "source": [
    "a = torch.Tensor([1, 2, 3, 4])\n",
    "b = torch.Tensor([1.0, 3.0, 3.0, 2.0])\n",
    "metrics.accuracy(a, b, task = 'multiclass', num_classes = 4)\n",
    "c = torch.Tensor([[1] ,[2], [3], [4]])\n",
    "c.argmax(0)\n",
    "c.shape"
   ]
  },
  {
   "cell_type": "code",
   "execution_count": 55,
   "metadata": {},
   "outputs": [],
   "source": [
    "### ===> 학습 진행 함수\n",
    "def train(model, dataloader, optimizer, criterion):\n",
    "    # 학습 모드\n",
    "    model.train()\n",
    "    \n",
    "    # 학습 평가 관련 변수들\n",
    "    train_acc_list = []\n",
    "    train_loss_list = []\n",
    "    train_f1score_list = []\n",
    "    # 배치 학습 진행\n",
    "    for idx, (label, text, offsets) in enumerate(dataloader):\n",
    "        \n",
    "        label, text, offsets = label.to(device), text.to(device), offsets.to(device), \n",
    "        \n",
    "        label = label.unsqueeze(1).float()\n",
    "\n",
    "        # 학습진행\n",
    "        predicted_label = model(text, offsets)\n",
    "        # print(f'predicted_label : {predicted_label.shape}   label : {label.shape} ')\n",
    "        \n",
    "        # 손실 계산 및 W,b 업데이트\n",
    "        optimizer.zero_grad()\n",
    "        train_loss = criterion(predicted_label, label)\n",
    "        train_loss_list.append(train_loss.item())\n",
    "        train_loss.backward()\n",
    "        # 기울기 소실 및 폭주 예방을 위한 양극단 값 자르기 \n",
    "        torch.nn.utils.clip_grad_norm_(model.parameters(), 0.1)\n",
    "        optimizer.step()\n",
    "       \n",
    "        train_accuracy = metrics.accuracy(predicted_label, label, task = 'binary').item()\n",
    "        train_acc_list.append(train_accuracy)\n",
    "        train_f1score = metrics.f1_score(predicted_label, label, task = 'binary').item()\n",
    "        train_f1score_list.append(train_f1score)\n",
    "    \n",
    "    train_accuracy = sum(train_acc_list) / len(dataloader)\n",
    "    train_loss = sum(train_loss_list) / len(dataloader)\n",
    "    train_f1score = sum(train_f1score_list) / len(dataloader)\n",
    "\n",
    "    return train_accuracy, train_loss, train_f1score"
   ]
  },
  {
   "cell_type": "code",
   "execution_count": 56,
   "metadata": {},
   "outputs": [],
   "source": [
    "### ===> 검증 및 테스트 함수\n",
    "def evaluate(model, dataloader, criterion):\n",
    "    # 검증 모드 \n",
    "    model.eval()\n",
    "    \n",
    "    # 검증 평가 관련 변수\n",
    "    val_acc_list = []\n",
    "    val_loss_list = []\n",
    "    val_f1score_list = []\n",
    "    # 검증 진행\n",
    "    with torch.no_grad():\n",
    "        for idx, (label, text, offsets) in enumerate(dataloader):\n",
    "            label = label.unsqueeze(1).float()\n",
    "            predicted_label = model(text, offsets) \n",
    "            val_loss = criterion(predicted_label, label).item()\n",
    "            val_loss_list.append(val_loss)\n",
    "           \n",
    "            val_accuracy = metrics.accuracy(predicted_label, label, task = 'binary').item()\n",
    "            val_acc_list.append(val_accuracy)\n",
    "            val_f1score = metrics.f1_score(predicted_label, label, task = 'binary').item()\n",
    "            val_f1score_list.append(val_f1score)\n",
    "\n",
    "    val_accuracy = sum(val_acc_list) / len(dataloader)\n",
    "    val_loss = sum(val_loss_list) / len(dataloader)\n",
    "    val_f1score = sum(val_f1score_list) / len(dataloader) \n",
    "    \n",
    "    return val_accuracy, val_loss, val_f1score"
   ]
  },
  {
   "cell_type": "code",
   "execution_count": 57,
   "metadata": {},
   "outputs": [],
   "source": [
    "### ====> 예측 함수\n",
    "def predict(model, text, text_pipeline):\n",
    "    with torch.no_grad():\n",
    "        # 토큰화 > 정수 변환 > 텐서\n",
    "        text = torch.tensor(text_pipeline(text))\n",
    "        output = model(text, torch.tensor([0]))\n",
    "        return output.argmax(1).item() + 1"
   ]
  },
  {
   "cell_type": "code",
   "execution_count": 58,
   "metadata": {},
   "outputs": [
    {
     "name": "stdout",
     "output_type": "stream",
     "text": [
      "\n",
      "[EPOCH: 1], \tTrain Loss: 0.6935, \tTrain Accuracy: 0.49 % \tTrain F1 score : 0.4306707170203565\n",
      "\n",
      "\n",
      "[EPOCH: 1], \tTest Loss: 0.6935, \tTest Accuracy: 0.49 % \tTest F1 score : 0.5199417297470054\n",
      "\n",
      "\n",
      "[EPOCH: 2], \tTrain Loss: 0.6933, \tTrain Accuracy: 0.50 % \tTrain F1 score : 0.5007584034072028\n",
      "\n",
      "\n",
      "[EPOCH: 2], \tTest Loss: 0.6933, \tTest Accuracy: 0.50 % \tTest F1 score : 0.48782008272090943\n",
      "\n",
      "\n",
      "[EPOCH: 3], \tTrain Loss: 0.6931, \tTrain Accuracy: 0.50 % \tTrain F1 score : 0.5099803256704694\n",
      "\n",
      "\n",
      "[EPOCH: 3], \tTest Loss: 0.6931, \tTest Accuracy: 0.50 % \tTest F1 score : 0.4923782884771284\n",
      "\n",
      "\n",
      "[EPOCH: 4], \tTrain Loss: 0.6929, \tTrain Accuracy: 0.51 % \tTrain F1 score : 0.519359316523113\n",
      "\n",
      "\n",
      "[EPOCH: 4], \tTest Loss: 0.6929, \tTest Accuracy: 0.51 % \tTest F1 score : 0.48947552483500417\n",
      "\n",
      "\n",
      "[EPOCH: 5], \tTrain Loss: 0.6927, \tTrain Accuracy: 0.52 % \tTrain F1 score : 0.5079368749402818\n",
      "\n",
      "\n",
      "[EPOCH: 5], \tTest Loss: 0.6927, \tTest Accuracy: 0.52 % \tTest F1 score : 0.5088285348039243\n",
      "\n",
      "\n",
      "[EPOCH: 6], \tTrain Loss: 0.6925, \tTrain Accuracy: 0.52 % \tTrain F1 score : 0.5203035110329824\n",
      "\n",
      "\n",
      "[EPOCH: 6], \tTest Loss: 0.6924, \tTest Accuracy: 0.52 % \tTest F1 score : 0.5551320296965786\n",
      "\n",
      "\n",
      "[EPOCH: 7], \tTrain Loss: 0.6922, \tTrain Accuracy: 0.53 % \tTrain F1 score : 0.5467068926020274\n",
      "\n",
      "\n",
      "[EPOCH: 7], \tTest Loss: 0.6921, \tTest Accuracy: 0.53 % \tTest F1 score : 0.4587149513510954\n",
      "\n",
      "\n",
      "[EPOCH: 8], \tTrain Loss: 0.6920, \tTrain Accuracy: 0.54 % \tTrain F1 score : 0.5153746752228056\n",
      "\n",
      "\n",
      "[EPOCH: 8], \tTest Loss: 0.6918, \tTest Accuracy: 0.54 % \tTest F1 score : 0.5770541598626979\n",
      "\n",
      "\n",
      "[EPOCH: 9], \tTrain Loss: 0.6916, \tTrain Accuracy: 0.55 % \tTrain F1 score : 0.5542952736975655\n",
      "\n",
      "\n",
      "[EPOCH: 9], \tTest Loss: 0.6915, \tTest Accuracy: 0.55 % \tTest F1 score : 0.5385170001110048\n",
      "\n",
      "\n",
      "[EPOCH: 10], \tTrain Loss: 0.6912, \tTrain Accuracy: 0.55 % \tTrain F1 score : 0.5605379849010044\n",
      "\n",
      "\n",
      "[EPOCH: 10], \tTest Loss: 0.6910, \tTest Accuracy: 0.55 % \tTest F1 score : 0.5300359869276294\n",
      "\n",
      "\n",
      "[EPOCH: 11], \tTrain Loss: 0.6907, \tTrain Accuracy: 0.56 % \tTrain F1 score : 0.5523874768567464\n",
      "\n",
      "\n",
      "[EPOCH: 11], \tTest Loss: 0.6905, \tTest Accuracy: 0.56 % \tTest F1 score : 0.5592597222510185\n",
      "\n",
      "\n",
      "[EPOCH: 12], \tTrain Loss: 0.6901, \tTrain Accuracy: 0.57 % \tTrain F1 score : 0.581222224292301\n",
      "\n",
      "\n",
      "[EPOCH: 12], \tTest Loss: 0.6898, \tTest Accuracy: 0.57 % \tTest F1 score : 0.5305885284304922\n",
      "\n",
      "\n",
      "[EPOCH: 13], \tTrain Loss: 0.6893, \tTrain Accuracy: 0.57 % \tTrain F1 score : 0.5697033420820085\n",
      "\n",
      "\n",
      "[EPOCH: 13], \tTest Loss: 0.6889, \tTest Accuracy: 0.58 % \tTest F1 score : 0.5828355038135713\n",
      "\n",
      "\n",
      "[EPOCH: 14], \tTrain Loss: 0.6884, \tTrain Accuracy: 0.58 % \tTrain F1 score : 0.5898550739364018\n",
      "\n",
      "\n",
      "[EPOCH: 14], \tTest Loss: 0.6878, \tTest Accuracy: 0.59 % \tTest F1 score : 0.5866659218421723\n",
      "\n",
      "\n",
      "[EPOCH: 15], \tTrain Loss: 0.6871, \tTrain Accuracy: 0.59 % \tTrain F1 score : 0.6008981354274447\n",
      "\n",
      "\n",
      "[EPOCH: 15], \tTest Loss: 0.6864, \tTest Accuracy: 0.59 % \tTest F1 score : 0.5638080619977024\n",
      "\n",
      "\n",
      "[EPOCH: 16], \tTrain Loss: 0.6854, \tTrain Accuracy: 0.60 % \tTrain F1 score : 0.5999681002185459\n",
      "\n",
      "\n",
      "[EPOCH: 16], \tTest Loss: 0.6844, \tTest Accuracy: 0.60 % \tTest F1 score : 0.6306444500542172\n",
      "\n",
      "\n",
      "[EPOCH: 17], \tTrain Loss: 0.6833, \tTrain Accuracy: 0.61 % \tTrain F1 score : 0.6054106440998259\n",
      "\n",
      "\n",
      "[EPOCH: 17], \tTest Loss: 0.6818, \tTest Accuracy: 0.61 % \tTest F1 score : 0.6308604448502907\n",
      "\n",
      "\n",
      "[EPOCH: 18], \tTrain Loss: 0.6802, \tTrain Accuracy: 0.62 % \tTrain F1 score : 0.6246801435947418\n",
      "\n",
      "\n",
      "[EPOCH: 18], \tTest Loss: 0.6782, \tTest Accuracy: 0.62 % \tTest F1 score : 0.5856177125116644\n",
      "\n",
      "\n",
      "[EPOCH: 19], \tTrain Loss: 0.6760, \tTrain Accuracy: 0.62 % \tTrain F1 score : 0.6225648082437969\n",
      "\n",
      "\n",
      "[EPOCH: 19], \tTest Loss: 0.6731, \tTest Accuracy: 0.63 % \tTest F1 score : 0.6497663870719249\n",
      "\n",
      "\n",
      "[EPOCH: 20], \tTrain Loss: 0.6702, \tTrain Accuracy: 0.63 % \tTrain F1 score : 0.6421213000539749\n",
      "\n",
      "\n",
      "[EPOCH: 20], \tTest Loss: 0.6661, \tTest Accuracy: 0.64 % \tTest F1 score : 0.6376515767956508\n",
      "\n",
      "\n",
      "[EPOCH: 21], \tTrain Loss: 0.6622, \tTrain Accuracy: 0.65 % \tTrain F1 score : 0.6469525905639406\n",
      "\n",
      "\n",
      "[EPOCH: 21], \tTest Loss: 0.6566, \tTest Accuracy: 0.66 % \tTest F1 score : 0.667302546610359\n",
      "\n",
      "\n",
      "[EPOCH: 22], \tTrain Loss: 0.6513, \tTrain Accuracy: 0.66 % \tTrain F1 score : 0.660047396686342\n",
      "\n",
      "\n",
      "[EPOCH: 22], \tTest Loss: 0.6441, \tTest Accuracy: 0.67 % \tTest F1 score : 0.6765118447575557\n",
      "\n",
      "\n",
      "[EPOCH: 23], \tTrain Loss: 0.6378, \tTrain Accuracy: 0.67 % \tTrain F1 score : 0.6725320479604933\n",
      "\n",
      "\n",
      "[EPOCH: 23], \tTest Loss: 0.6285, \tTest Accuracy: 0.68 % \tTest F1 score : 0.6838643828421148\n",
      "\n",
      "\n",
      "[EPOCH: 24], \tTrain Loss: 0.6214, \tTrain Accuracy: 0.68 % \tTrain F1 score : 0.685008081084206\n",
      "\n",
      "\n",
      "[EPOCH: 24], \tTest Loss: 0.6108, \tTest Accuracy: 0.69 % \tTest F1 score : 0.6867106820790823\n",
      "\n",
      "\n",
      "[EPOCH: 25], \tTrain Loss: 0.6032, \tTrain Accuracy: 0.70 % \tTrain F1 score : 0.6963542977211967\n",
      "\n",
      "\n",
      "[EPOCH: 25], \tTest Loss: 0.5912, \tTest Accuracy: 0.71 % \tTest F1 score : 0.7066310986914404\n",
      "\n",
      "\n",
      "[EPOCH: 26], \tTrain Loss: 0.5844, \tTrain Accuracy: 0.71 % \tTrain F1 score : 0.7090230004371159\n",
      "\n",
      "\n",
      "[EPOCH: 26], \tTest Loss: 0.5722, \tTest Accuracy: 0.72 % \tTest F1 score : 0.7195130547191048\n",
      "\n",
      "\n",
      "[EPOCH: 27], \tTrain Loss: 0.5663, \tTrain Accuracy: 0.72 % \tTrain F1 score : 0.7195590473356701\n",
      "\n",
      "\n",
      "[EPOCH: 27], \tTest Loss: 0.5536, \tTest Accuracy: 0.73 % \tTest F1 score : 0.7291553504291078\n",
      "\n",
      "\n",
      "[EPOCH: 28], \tTrain Loss: 0.5489, \tTrain Accuracy: 0.73 % \tTrain F1 score : 0.7293476910818191\n",
      "\n",
      "\n",
      "[EPOCH: 28], \tTest Loss: 0.5370, \tTest Accuracy: 0.74 % \tTest F1 score : 0.736633508563345\n",
      "\n",
      "\n",
      "[EPOCH: 29], \tTrain Loss: 0.5338, \tTrain Accuracy: 0.74 % \tTrain F1 score : 0.7376848959165906\n",
      "\n",
      "\n",
      "[EPOCH: 29], \tTest Loss: 0.5223, \tTest Accuracy: 0.74 % \tTest F1 score : 0.7493788854766438\n",
      "\n",
      "\n",
      "[EPOCH: 30], \tTrain Loss: 0.5202, \tTrain Accuracy: 0.74 % \tTrain F1 score : 0.745050133712708\n",
      "\n",
      "\n",
      "[EPOCH: 30], \tTest Loss: 0.5095, \tTest Accuracy: 0.75 % \tTest F1 score : 0.748463182807272\n",
      "\n",
      "\n",
      "[EPOCH: 31], \tTrain Loss: 0.5082, \tTrain Accuracy: 0.75 % \tTrain F1 score : 0.7521715865437947\n",
      "\n",
      "\n",
      "[EPOCH: 31], \tTest Loss: 0.4978, \tTest Accuracy: 0.76 % \tTest F1 score : 0.7562317843655594\n",
      "\n",
      "\n",
      "[EPOCH: 32], \tTrain Loss: 0.4975, \tTrain Accuracy: 0.76 % \tTrain F1 score : 0.7582149054133703\n",
      "\n",
      "\n",
      "[EPOCH: 32], \tTest Loss: 0.4872, \tTest Accuracy: 0.76 % \tTest F1 score : 0.7636865978022568\n",
      "\n",
      "\n",
      "[EPOCH: 33], \tTrain Loss: 0.4876, \tTrain Accuracy: 0.76 % \tTrain F1 score : 0.7631644111209446\n",
      "\n",
      "\n",
      "[EPOCH: 33], \tTest Loss: 0.4778, \tTest Accuracy: 0.77 % \tTest F1 score : 0.7694425153671633\n",
      "\n",
      "\n",
      "[EPOCH: 34], \tTrain Loss: 0.4788, \tTrain Accuracy: 0.77 % \tTrain F1 score : 0.7685522575605483\n",
      "\n",
      "\n",
      "[EPOCH: 34], \tTest Loss: 0.4693, \tTest Accuracy: 0.77 % \tTest F1 score : 0.7750097017251808\n",
      "\n",
      "\n",
      "[EPOCH: 35], \tTrain Loss: 0.4709, \tTrain Accuracy: 0.77 % \tTrain F1 score : 0.7733890587186056\n",
      "\n",
      "\n",
      "[EPOCH: 35], \tTest Loss: 0.4617, \tTest Accuracy: 0.78 % \tTest F1 score : 0.7796222197493827\n",
      "\n",
      "\n",
      "[EPOCH: 36], \tTrain Loss: 0.4635, \tTrain Accuracy: 0.78 % \tTrain F1 score : 0.7779672843690902\n",
      "\n",
      "\n",
      "[EPOCH: 36], \tTest Loss: 0.4546, \tTest Accuracy: 0.78 % \tTest F1 score : 0.7864778410387403\n",
      "\n",
      "\n",
      "[EPOCH: 37], \tTrain Loss: 0.4568, \tTrain Accuracy: 0.78 % \tTrain F1 score : 0.7822140324304975\n",
      "\n",
      "\n",
      "[EPOCH: 37], \tTest Loss: 0.4481, \tTest Accuracy: 0.79 % \tTest F1 score : 0.7879771233818307\n",
      "\n",
      "\n",
      "[EPOCH: 38], \tTrain Loss: 0.4507, \tTrain Accuracy: 0.78 % \tTrain F1 score : 0.7856031381894671\n",
      "\n",
      "\n",
      "[EPOCH: 38], \tTest Loss: 0.4421, \tTest Accuracy: 0.79 % \tTest F1 score : 0.7920512139948876\n",
      "\n",
      "\n",
      "[EPOCH: 39], \tTrain Loss: 0.4450, \tTrain Accuracy: 0.79 % \tTrain F1 score : 0.7894760137512571\n",
      "\n",
      "\n",
      "[EPOCH: 39], \tTest Loss: 0.4367, \tTest Accuracy: 0.79 % \tTest F1 score : 0.7925218859398334\n",
      "\n",
      "\n",
      "[EPOCH: 40], \tTrain Loss: 0.4396, \tTrain Accuracy: 0.79 % \tTrain F1 score : 0.7925525283813477\n",
      "\n",
      "\n",
      "[EPOCH: 40], \tTest Loss: 0.4315, \tTest Accuracy: 0.80 % \tTest F1 score : 0.7965509632161556\n",
      "\n",
      "\n",
      "[EPOCH: 41], \tTrain Loss: 0.4346, \tTrain Accuracy: 0.79 % \tTrain F1 score : 0.7957711337104676\n",
      "\n",
      "\n",
      "[EPOCH: 41], \tTest Loss: 0.4269, \tTest Accuracy: 0.80 % \tTest F1 score : 0.7983014603304196\n",
      "\n",
      "\n",
      "[EPOCH: 42], \tTrain Loss: 0.4301, \tTrain Accuracy: 0.80 % \tTrain F1 score : 0.7983292558079674\n",
      "\n",
      "\n",
      "[EPOCH: 42], \tTest Loss: 0.4223, \tTest Accuracy: 0.80 % \tTest F1 score : 0.8016045763899049\n",
      "\n",
      "\n",
      "[EPOCH: 43], \tTrain Loss: 0.4258, \tTrain Accuracy: 0.80 % \tTrain F1 score : 0.8011934042355371\n",
      "\n",
      "\n",
      "[EPOCH: 43], \tTest Loss: 0.4181, \tTest Accuracy: 0.80 % \tTest F1 score : 0.8043084124875736\n",
      "\n",
      "\n",
      "[EPOCH: 44], \tTrain Loss: 0.4217, \tTrain Accuracy: 0.80 % \tTrain F1 score : 0.8037215669571407\n",
      "\n",
      "\n",
      "[EPOCH: 44], \tTest Loss: 0.4143, \tTest Accuracy: 0.81 % \tTest F1 score : 0.8064560952380717\n",
      "\n",
      "\n",
      "[EPOCH: 45], \tTrain Loss: 0.4178, \tTrain Accuracy: 0.80 % \tTrain F1 score : 0.8063112324381632\n",
      "\n",
      "\n",
      "[EPOCH: 45], \tTest Loss: 0.4104, \tTest Accuracy: 0.81 % \tTest F1 score : 0.8099999297362854\n",
      "\n",
      "\n",
      "[EPOCH: 46], \tTrain Loss: 0.4142, \tTrain Accuracy: 0.81 % \tTrain F1 score : 0.8081437364457146\n",
      "\n",
      "\n",
      "[EPOCH: 46], \tTest Loss: 0.4070, \tTest Accuracy: 0.81 % \tTest F1 score : 0.8111786020317757\n",
      "\n",
      "\n",
      "[EPOCH: 47], \tTrain Loss: 0.4109, \tTrain Accuracy: 0.81 % \tTrain F1 score : 0.809952279348222\n",
      "\n",
      "\n",
      "[EPOCH: 47], \tTest Loss: 0.4038, \tTest Accuracy: 0.81 % \tTest F1 score : 0.8121762706426567\n",
      "\n",
      "\n",
      "[EPOCH: 48], \tTrain Loss: 0.4075, \tTrain Accuracy: 0.81 % \tTrain F1 score : 0.8115667507383558\n",
      "\n",
      "\n",
      "[EPOCH: 48], \tTest Loss: 0.4004, \tTest Accuracy: 0.81 % \tTest F1 score : 0.8167510199486148\n",
      "\n",
      "\n",
      "[EPOCH: 49], \tTrain Loss: 0.4044, \tTrain Accuracy: 0.81 % \tTrain F1 score : 0.813841028213501\n",
      "\n",
      "\n",
      "[EPOCH: 49], \tTest Loss: 0.3974, \tTest Accuracy: 0.82 % \tTest F1 score : 0.8173783036285381\n",
      "\n",
      "\n",
      "[EPOCH: 50], \tTrain Loss: 0.4015, \tTrain Accuracy: 0.81 % \tTrain F1 score : 0.8154248262208605\n",
      "\n",
      "\n",
      "[EPOCH: 50], \tTest Loss: 0.3945, \tTest Accuracy: 0.82 % \tTest F1 score : 0.8194336364894119\n",
      "\n"
     ]
    }
   ],
   "source": [
    "loss_list = [[], []]\n",
    "acc_list = [[], []]\n",
    "f1_list = [[], []]\n",
    "\n",
    "for epoch in range(1, EPOCHS + 1):\n",
    "    \n",
    "    train_accuracy, train_loss, train_f1score = train(MY_MODEL, trainDL, OPTIMIZER, CRITERION, epoch)\n",
    "    val_accuracy, val_loss, val_f1score = evaluate(MY_MODEL, testDL, CRITERION)\n",
    "    \n",
    "    print(f\"\\n[EPOCH: {epoch}] \\tTrain Loss: {train_loss:.4f} \\tTrain Accuracy: {train_accuracy:.2f} % \\tTrain F1 score : {train_f1score}\\n\")\n",
    "    print(f\"\\n[EPOCH: {epoch}] \\tTest Loss: {val_loss:.4f} \\tTest Accuracy: {val_accuracy:.2f} % \\tTest F1 score : {val_f1score}\\n\")\n",
    "\n",
    "    loss_list[0].append(train_loss)\n",
    "    loss_list[1].append(val_loss)\n",
    "    acc_list[0].append(train_accuracy)\n",
    "    acc_list[1].append(val_accuracy)\n",
    "    f1_list[0].append(train_f1score)\n",
    "    f1_list[1].append(val_f1score)\n",
    "\n",
    "    SCHEDULER.step(val_loss)\n",
    "    # 조기종료 기능 => 조건 : val_loss가 지정된 횟수이상 개선이 안되면 학습 종료\n",
    "    if SCHEDULER.num_bad_epochs >= SCHEDULER.patience:\n",
    "        print(f'Early stopping at epoch {epoch}')\n",
    "        break\n"
   ]
  },
  {
   "cell_type": "code",
   "execution_count": 64,
   "metadata": {},
   "outputs": [],
   "source": [
    "torch.save(MY_MODEL, './Models/GRU_model2_Jeolla.pt')"
   ]
  },
  {
   "cell_type": "code",
   "execution_count": 63,
   "metadata": {},
   "outputs": [
    {
     "data": {
      "image/png": "[encoded data removed]",
      "text/plain": [
       "<Figure size 1200x1000 with 7 Axes>"
      ]
     },
     "metadata": {},
     "output_type": "display_data"
    }
   ],
   "source": [
    "plt.figure(figsize = (12, 10))\n",
    "plt.suptitle('[After Learning]', size = 20)\n",
    "i = 1\n",
    "for name, params in MY_MODEL.named_parameters():\n",
    "    plt.subplot(3, 3, i)\n",
    "    plt.hist(params.detach().numpy().flatten(), label = name, color = 'cornflowerblue')\n",
    "    plt.xlabel('weight', size = 15)\n",
    "    plt.ylabel('count', size = 15)\n",
    "    plt.grid(axis = 'y')\n",
    "    plt.legend()\n",
    "    i += 1\n",
    "\n",
    "plt.tight_layout()\n",
    "plt.show()"
   ]
  }
 ],
 "metadata": {
  "kernelspec": {
   "display_name": "Torch_NLP38",
   "language": "python",
   "name": "python3"
  },
  "language_info": {
   "codemirror_mode": {
    "name": "ipython",
    "version": 3
   },
   "file_extension": ".py",
   "mimetype": "text/x-python",
   "name": "python",
   "nbconvert_exporter": "python",
   "pygments_lexer": "ipython3",
   "version": "3.8.19"
  }
 },
 "nbformat": 4,
 "nbformat_minor": 2
}
